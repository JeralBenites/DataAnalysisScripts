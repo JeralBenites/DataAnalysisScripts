{
 "cells": [
  {
   "cell_type": "code",
   "execution_count": 2,
   "id": "initial_id",
   "metadata": {
    "collapsed": true,
    "ExecuteTime": {
     "end_time": "2023-10-15T19:27:44.288736500Z",
     "start_time": "2023-10-15T19:27:43.762264100Z"
    }
   },
   "outputs": [
    {
     "data": {
      "text/plain": "                       app  cupon    categoria                   apuesta  \\\n0  TIPS BET (PREDICCIONES)   FREE     20+ ODDS      BOTH TEAMS SCORE/YES   \n1  TIPS BET (PREDICCIONES)   FREE    GOAL GOAL      BOTH TEAMS SCORE/YES   \n2            ELITE TIP BET  V.I.P  BIG WIN VIP              AALBORG WINS   \n3  TIPS BET (PREDICCIONES)  V.I.P    HT FT VIP                 HT/FT 0/0   \n4               MULTI TIPS   FREE     FOOTBALL  MIDTJYLLAND WINS OR DRAW   \n\n          dia   hora  tasa     estado equipoVisita equipoLocal  \n0  26-09-2023  11:00  1.75  EN ESPERA   FREDERICIA     AALBORG  \n1  26-09-2023  11:00  1.75  EN ESPERA   FREDERICIA     AALBORG  \n2  26-09-2023  11:00  1.45  EN ESPERA   FREDERICIA     AALBORG  \n3  27-08-2023  08:00  5.50  EN ESPERA     HILLEROD     AALBORG  \n4  06-03-2023  13:00  1.32     GANADO  MIDTJYLLAND     AALBORG  ",
      "text/html": "<div>\n<style scoped>\n    .dataframe tbody tr th:only-of-type {\n        vertical-align: middle;\n    }\n\n    .dataframe tbody tr th {\n        vertical-align: top;\n    }\n\n    .dataframe thead th {\n        text-align: right;\n    }\n</style>\n<table border=\"1\" class=\"dataframe\">\n  <thead>\n    <tr style=\"text-align: right;\">\n      <th></th>\n      <th>app</th>\n      <th>cupon</th>\n      <th>categoria</th>\n      <th>apuesta</th>\n      <th>dia</th>\n      <th>hora</th>\n      <th>tasa</th>\n      <th>estado</th>\n      <th>equipoVisita</th>\n      <th>equipoLocal</th>\n    </tr>\n  </thead>\n  <tbody>\n    <tr>\n      <th>0</th>\n      <td>TIPS BET (PREDICCIONES)</td>\n      <td>FREE</td>\n      <td>20+ ODDS</td>\n      <td>BOTH TEAMS SCORE/YES</td>\n      <td>26-09-2023</td>\n      <td>11:00</td>\n      <td>1.75</td>\n      <td>EN ESPERA</td>\n      <td>FREDERICIA</td>\n      <td>AALBORG</td>\n    </tr>\n    <tr>\n      <th>1</th>\n      <td>TIPS BET (PREDICCIONES)</td>\n      <td>FREE</td>\n      <td>GOAL GOAL</td>\n      <td>BOTH TEAMS SCORE/YES</td>\n      <td>26-09-2023</td>\n      <td>11:00</td>\n      <td>1.75</td>\n      <td>EN ESPERA</td>\n      <td>FREDERICIA</td>\n      <td>AALBORG</td>\n    </tr>\n    <tr>\n      <th>2</th>\n      <td>ELITE TIP BET</td>\n      <td>V.I.P</td>\n      <td>BIG WIN VIP</td>\n      <td>AALBORG WINS</td>\n      <td>26-09-2023</td>\n      <td>11:00</td>\n      <td>1.45</td>\n      <td>EN ESPERA</td>\n      <td>FREDERICIA</td>\n      <td>AALBORG</td>\n    </tr>\n    <tr>\n      <th>3</th>\n      <td>TIPS BET (PREDICCIONES)</td>\n      <td>V.I.P</td>\n      <td>HT FT VIP</td>\n      <td>HT/FT 0/0</td>\n      <td>27-08-2023</td>\n      <td>08:00</td>\n      <td>5.50</td>\n      <td>EN ESPERA</td>\n      <td>HILLEROD</td>\n      <td>AALBORG</td>\n    </tr>\n    <tr>\n      <th>4</th>\n      <td>MULTI TIPS</td>\n      <td>FREE</td>\n      <td>FOOTBALL</td>\n      <td>MIDTJYLLAND WINS OR DRAW</td>\n      <td>06-03-2023</td>\n      <td>13:00</td>\n      <td>1.32</td>\n      <td>GANADO</td>\n      <td>MIDTJYLLAND</td>\n      <td>AALBORG</td>\n    </tr>\n  </tbody>\n</table>\n</div>"
     },
     "execution_count": 2,
     "metadata": {},
     "output_type": "execute_result"
    }
   ],
   "source": [
    "import pandas as pd\n",
    "from sqlalchemy import create_engine\n",
    "\n",
    "server = 'JERAL_BENITES'\n",
    "database = 'picks'\n",
    "username = 'sa'\n",
    "password = 'zaperoko1'\n",
    "\n",
    "connection_string = f'mssql+pyodbc://{username}:{password}@{server}/{database}?driver=ODBC+Driver+17+for+SQL+Server'\n",
    "engine = create_engine(connection_string)\n",
    "\n",
    "sql_query = \"\"\"\n",
    "SELECT \n",
    "    match.app, couponb.name cupon, categoryb.name categoria, match.bet apuesta,\n",
    "    match.day dia, match.time hora, match.rate tasa, match.status estado, teamaway.name equipoVisita, teamhome.name  equipoLocal\n",
    "FROM [dbo].[match_bet] AS match\n",
    "LEFT JOIN [dbo].[team_bet] AS teamaway\n",
    "       ON match.id_away_team = teamaway.id\n",
    "LEFT JOIN [dbo].[team_bet] AS teamhome\n",
    "       ON match.id_home_team = teamhome.id\n",
    "LEFT JOIN [dbo].[league_bet] AS league\n",
    "       ON match.id_league = league.id\n",
    "LEFT JOIN [dbo].[category_bet] AS categoryb\n",
    "       ON match.id_category = categoryb.id\n",
    "LEFT JOIN [dbo].[coupon_bet] AS couponb\n",
    "       ON categoryb.id_coupon = couponb.id\n",
    "\"\"\"\n",
    "\n",
    "data = pd.read_sql(sql_query, engine)\n",
    "\n",
    "data.head()"
   ]
  },
  {
   "cell_type": "code",
   "execution_count": null,
   "outputs": [],
   "source": [],
   "metadata": {
    "collapsed": false
   },
   "id": "51ec1e32584dbd94"
  }
 ],
 "metadata": {
  "kernelspec": {
   "display_name": "Python 3",
   "language": "python",
   "name": "python3"
  },
  "language_info": {
   "codemirror_mode": {
    "name": "ipython",
    "version": 2
   },
   "file_extension": ".py",
   "mimetype": "text/x-python",
   "name": "python",
   "nbconvert_exporter": "python",
   "pygments_lexer": "ipython2",
   "version": "2.7.6"
  }
 },
 "nbformat": 4,
 "nbformat_minor": 5
}
